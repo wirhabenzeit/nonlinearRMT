{
 "cells": [
  {
   "cell_type": "markdown",
   "id": "430fbf63",
   "metadata": {},
   "source": [
    "## Loading packages"
   ]
  },
  {
   "cell_type": "code",
   "execution_count": 10,
   "id": "8cb84b82",
   "metadata": {},
   "outputs": [],
   "source": [
    "import numpy as np\n",
    "import matplotlib.pyplot as plt\n",
    "from scipy import stats\n",
    "from scipy.misc import derivative\n",
    "from IPython.display import clear_output\n",
    "import scipy.integrate as integrate"
   ]
  },
  {
   "cell_type": "markdown",
   "id": "c87bdbc9",
   "metadata": {},
   "source": [
    "## Random sampling from various distributions"
   ]
  },
  {
   "cell_type": "code",
   "execution_count": 11,
   "id": "784cbfd1",
   "metadata": {},
   "outputs": [],
   "source": [
    "def bernoulli(size,cplx=True):\n",
    "    if cplx: \n",
    "        return ((2*np.random.binomial(1,.5,size=size)-1)+1j*(2*np.random.binomial(1,.5,size=size)-1))/np.sqrt(2)\n",
    "    else:\n",
    "        return (2*np.random.binomial(1,.5,size=size)-1)\n",
    "def laplace(size,cplx=True):\n",
    "    if cplx: \n",
    "        return (np.random.laplace(size=size)+1j*np.random.laplace(size=size))/2\n",
    "    else:\n",
    "        return np.random.laplace(size=size)/np.sqrt(2)\n",
    "def normal(size,cplx=True):\n",
    "    if cplx: \n",
    "        return (np.random.normal(size=size)+1j*np.random.normal(size=size))/np.sqrt(2)\n",
    "    else:\n",
    "        return np.random.normal(size=size)\n",
    "def gennormal(size,beta=2,cplx=True):\n",
    "    if cplx: \n",
    "        return (gennorm.rvs(beta, size=size)*np.sqrt(gamma(1/beta)/gamma(3/beta))+1j*gennorm.rvs(beta, size=size)*np.sqrt(gamma(1/beta)/gamma(3/beta)))/np.sqrt(2)\n",
    "    else:\n",
    "        return gennorm.rvs(beta, size=size)*np.sqrt(gamma(1/beta)/gamma(3/beta))\n",
    "def halfnormal(size,cplx=True):\n",
    "    return gennormal(size,beta=.5,cplx=cplx)\n",
    "def quarternormal(size,cplx=True):\n",
    "    return gennormal(size,beta=.25,cplx=cplx)"
   ]
  },
  {
   "cell_type": "markdown",
   "id": "6defcd48",
   "metadata": {},
   "source": [
    "## Multi-Layer NN class"
   ]
  },
  {
   "cell_type": "code",
   "execution_count": 12,
   "id": "b559ac9c",
   "metadata": {},
   "outputs": [],
   "source": [
    "class multiLayerNLRM():\n",
    "    def __init__(self,n0,n1,m,f=lambda x: x,cplx=True,dist=normal,sigmax=1,sigmaw=1,sigmab=0,layers=1,batchNorm=False):\n",
    "        self.n0 = n0\n",
    "        self.n1 = n1\n",
    "        self.m = m\n",
    "        self.Ws = sigmaw*dist(size=(n1,n0),cplx=cplx)\n",
    "        self.Xs = sigmax*dist(size=(n0,m),cplx=cplx)\n",
    "        self.Bs = np.tile(sigmab*dist(size=(n1,1),cplx=cplx),m)\n",
    "        self.Zs = self.Ws@self.Xs/np.sqrt(self.n0)+self.Bs\n",
    "        self.Ys = f(self.Zs)\n",
    "        for k in range(layers-1):\n",
    "            Ws = sigmaw*dist(size=(n1,n1),cplx=cplx)\n",
    "            Bs = np.tile(sigmab*dist(size=(n1,1),cplx=cplx),m)\n",
    "            Zs = Ws@self.Ys/np.sqrt(self.n1)+Bs\n",
    "            self.Ys=f(Zs)\n",
    "            if batchNorm:\n",
    "                self.Ys=self.Ys/self.Ys.std(axis=0)\n",
    "        self.Ms = np.matmul( self.Ys, self.Ys.T.conjugate() )/self.m\n",
    "        self.eigs = np.linalg.eigh(self.Ms)[0]"
   ]
  },
  {
   "cell_type": "markdown",
   "id": "01943815",
   "metadata": {},
   "source": [
    "## Computation of $\\theta_{1},\\theta_{1_b},\\theta_{2}$ and solving quartic equation"
   ]
  },
  {
   "cell_type": "code",
   "execution_count": 13,
   "id": "2c837735",
   "metadata": {},
   "outputs": [],
   "source": [
    "def gcomp(z,theta1,theta2,phi,psi,cubic=False):\n",
    "    coefs=[-z**2.*theta1*theta2*phi**2+z**2.*theta2**2.*phi**2,\n",
    "           -2*z*theta1*theta2*phi**2+ 2.*z*theta2**2.*phi**2\n",
    "               -z**2.*theta2*phi*psi+2.*z*theta1*theta2*phi*psi\n",
    "               -2*z*theta2**2.*phi*psi,\n",
    "           -theta1*theta2*phi**2+theta2**2.*phi**2\n",
    "               -2*z*theta2*phi*psi+2.*theta1*theta2*phi*psi\n",
    "               -2*theta2**2.*phi*psi+z*theta2*psi**2\n",
    "               -theta1*theta2*psi**2+theta2**2.*psi**2\n",
    "               +z*theta1*phi*psi**2,\n",
    "           -theta2*phi*psi+theta2*psi**2+theta1*phi*psi**2\n",
    "               +z*psi**3-theta1*psi**3,\n",
    "           psi**3]\n",
    "    if cubic:\n",
    "        return np.roots(coefs[1:])\n",
    "    else:\n",
    "        return np.roots(coefs)\n",
    "def gMP(z,chi,sx=1):\n",
    "    coefs=[z*chi*sx**2,z-sx**2+chi*sx**2,1]\n",
    "    return np.roots(coefs)\n",
    "def theta1(f,vw=1,vx=1,vb=1):\n",
    "    return integrate.quad(lambda x: f(np.sqrt(vw*vx+vb)*x)**2*np.exp(-x**2./2)/np.sqrt(2*np.pi),-np.inf,np.inf)[0]\n",
    "def theta1b(f,vw=1,vx=1,vb=1):\n",
    "    return integrate.dblquad(lambda x1,x2: f(x1)*f(x2)*\n",
    "                         np.exp(-((vw*vx+vb)*(x1**2.+x2**2.)-2*vb*x1*x2)/\n",
    "                                (2*vx*vw*(vx*vw+2*vb)))*\n",
    "                          1/(2*np.pi*np.sqrt(vx*vw*(vx*vw+2*vb))),\n",
    "                         -np.inf,np.inf,\n",
    "                         lambda t: -np.inf,lambda t:np.inf)[0]\n",
    "def theta2(df,vw=1,vx=1,vb=1):\n",
    "    return integrate.dblquad(lambda x1,x2: df(x1)*df(x2)*\n",
    "                         np.exp(-((vw*vx+vb)*(x1**2.+x2**2.)-2*vb*x1*x2)/\n",
    "                                (2*vx*vw*(vx*vw+2*vb)))*\n",
    "                         vx*vw/(2*np.pi*np.sqrt(vx*vw*(vx*vw+2*vb))),\n",
    "                         -np.inf,np.inf,\n",
    "                         lambda t: -np.inf,lambda t:np.inf)[0]   "
   ]
  },
  {
   "cell_type": "markdown",
   "id": "5e755eb3",
   "metadata": {},
   "source": [
    "## Test activation functions"
   ]
  },
  {
   "cell_type": "code",
   "execution_count": 26,
   "id": "57da9ec8",
   "metadata": {},
   "outputs": [],
   "source": [
    "def falpha(alpha):\n",
    "    def ftemp(x):\n",
    "        return (np.maximum(x,0)+alpha*np.maximum(-x,0)-(1+alpha)/np.sqrt(2*np.pi))/np.sqrt((1+alpha**2)/2-(1+alpha)**2/2/np.pi)\n",
    "    return ftemp\n",
    "def relu(sigma):\n",
    "    norm=integrate.quad(lambda x: np.maximum(sigma*x,0)*np.exp(-x**2./2)/np.sqrt(2*np.pi),-np.inf,np.inf)[0]\n",
    "    def relutemp(x):\n",
    "        return np.maximum(x,0)-norm\n",
    "    return relutemp"
   ]
  },
  {
   "cell_type": "markdown",
   "id": "9374ec10",
   "metadata": {},
   "source": [
    "## Figure 1"
   ]
  },
  {
   "cell_type": "code",
   "execution_count": 63,
   "id": "cc5853e5",
   "metadata": {},
   "outputs": [
    {
     "data": {
      "image/png": "[encoded data removed]",
      "text/plain": [
       "<Figure size 432x288 with 1 Axes>"
      ]
     },
     "metadata": {
      "needs_background": "light"
     },
     "output_type": "display_data"
    }
   ],
   "source": [
    "phi=1; psi=5; sx=1.; sw=1.; sb=.0; \n",
    "vx=sx**2.; vw=sw**2.; vb=sb**2.; \n",
    "f=np.tanh\n",
    "chi=phi/psi\n",
    "t1=theta1(f,vw,vx,vb)\n",
    "t1b=theta1b(f,vw,vx,vb)\n",
    "df=lambda x: derivative(f,x,dx=1e-5)\n",
    "t2=theta2(df,vw,vx,vb)\n",
    "\n",
    "n1=3000; n0=int(psi*n1); m=int(n0/phi);\n",
    "xs=np.linspace(.01,1.5,200)\n",
    "ys=np.array([np.imag(gcomp(x+.0001j,t1-t1b,t2,phi,psi,cubic=True)) for x in xs])\n",
    "rhosNB=np.max([chi,1])*ys.max(axis=1)/np.pi\n",
    "bins=np.linspace(0,1.2,41)\n",
    "\n",
    "NN=multiLayerNLRM(n0,n1,m,cplx=False,f=f,layers=1,sigmax=sx,sigmaw=sw,sigmab=sb,batchNorm=False)\n",
    "histNB=np.histogram(NN.eigs,bins,density=True)[0]\n",
    "plt.hist(NN.eigs,50,density=True)\n",
    "plt.plot(xs,rhosNB)\n",
    "plt.show()"
   ]
  },
  {
   "cell_type": "code",
   "execution_count": 64,
   "id": "7e3920c8",
   "metadata": {},
   "outputs": [
    {
     "data": {
      "image/png": "[encoded data removed]",
      "text/plain": [
       "<Figure size 432x288 with 1 Axes>"
      ]
     },
     "metadata": {
      "needs_background": "light"
     },
     "output_type": "display_data"
    }
   ],
   "source": [
    "phi=1; psi=5; sx=1.; sw=1.; sb=.5; \n",
    "vx=sx**2.; vw=sw**2.; vb=sb**2.;\n",
    "f=np.tanh\n",
    "chi=phi/psi\n",
    "t1=theta1(f,vw,vx,vb)\n",
    "t1b=theta1b(f,vw,vx,vb)\n",
    "df=lambda x: derivative(f,x,dx=1e-5)\n",
    "t2=theta2(df,vw,vx,vb)\n",
    "\n",
    "n1=3000; n0=int(psi*n1); m=int(n0/phi);\n",
    "xs=np.linspace(.01,1.5,200)\n",
    "ys=np.array([np.imag(gcomp(x+.0001j,t1-t1b,t2,phi,psi,cubic=True)) for x in xs])\n",
    "rhosB=np.max([chi,1])*ys.max(axis=1)/np.pi\n",
    "bins=np.linspace(0,1.2,41)\n",
    "\n",
    "NN=multiLayerNLRM(n0,n1,m,cplx=False,f=f,layers=1,sigmax=sx,sigmaw=sw,sigmab=sb,batchNorm=False)\n",
    "histB=np.histogram(NN.eigs[:-1],bins,density=True)[0]\n",
    "plt.hist(NN.eigs[:-1],50,density=True)\n",
    "plt.plot(xs,rhosB)\n",
    "plt.show()"
   ]
  },
  {
   "cell_type": "code",
   "execution_count": 65,
   "id": "2ca91127",
   "metadata": {},
   "outputs": [],
   "source": [
    "np.savetxt(\"hist_tanh.csv\",np.array([(bins[1:]+bins[:-1])/2,histNB,histB]).T,delimiter=\",\")\n",
    "np.savetxt(\"curve_tanh.csv\",np.array([xs,rhos,rhosB]).T,delimiter=\",\")"
   ]
  },
  {
   "cell_type": "code",
   "execution_count": 66,
   "id": "ff66a2d7",
   "metadata": {},
   "outputs": [
    {
     "data": {
      "image/png": "[encoded data removed]",
      "text/plain": [
       "<Figure size 432x288 with 1 Axes>"
      ]
     },
     "metadata": {
      "needs_background": "light"
     },
     "output_type": "display_data"
    }
   ],
   "source": [
    "phi=1; psi=2; sx=1.; sw=1.; sb=.0; \n",
    "vx=sx**2.; vw=sw**2.; vb=sb**2.; \n",
    "f=lambda x:x**3\n",
    "chi=phi/psi\n",
    "t1=theta1(f,vw,vx,vb)\n",
    "t1b=theta1b(f,vw,vx,vb)\n",
    "df=lambda x: derivative(f,x,dx=1e-5)\n",
    "t2=theta2(df,vw,vx,vb)\n",
    "\n",
    "n1=3000; n0=int(psi*n1); m=int(n0/phi);\n",
    "xs=np.linspace(.01,70,200)\n",
    "ys=np.array([np.imag(gcomp(x+.0001j,t1-t1b,t2,phi,psi,cubic=True)) for x in xs])\n",
    "rhosNB=np.max([chi,1])*ys.max(axis=1)/np.pi\n",
    "bins=np.linspace(0,80,41)\n",
    "\n",
    "NN=multiLayerNLRM(n0,n1,m,cplx=False,f=f,layers=1,sigmax=sx,sigmaw=sw,sigmab=sb,batchNorm=False)\n",
    "histNB=np.histogram(NN.eigs,bins,density=True)[0]\n",
    "plt.hist(NN.eigs,50,density=True)\n",
    "plt.plot(xs,rhosNB)\n",
    "plt.show()"
   ]
  },
  {
   "cell_type": "code",
   "execution_count": 67,
   "id": "d11ead2d",
   "metadata": {},
   "outputs": [
    {
     "data": {
      "image/png": "[encoded data removed]",
      "text/plain": [
       "<Figure size 432x288 with 1 Axes>"
      ]
     },
     "metadata": {
      "needs_background": "light"
     },
     "output_type": "display_data"
    }
   ],
   "source": [
    "phi=1; psi=2; sx=1.; sw=1.; sb=.25; \n",
    "vx=sx**2.; vw=sw**2.; vb=sb**2.; \n",
    "f=lambda x:x**3\n",
    "chi=phi/psi\n",
    "t1=theta1(f,vw,vx,vb)\n",
    "t1b=theta1b(f,vw,vx,vb)\n",
    "df=lambda x: derivative(f,x,dx=1e-5)\n",
    "t2=theta2(df,vw,vx,vb)\n",
    "\n",
    "n1=3000; n0=int(psi*n1); m=int(n0/phi);\n",
    "xs=np.linspace(.01,70,200)\n",
    "ys=np.array([np.imag(gcomp(x+.0001j,t1-t1b,t2,phi,psi,cubic=True)) for x in xs])\n",
    "rhosB=np.max([chi,1])*ys.max(axis=1)/np.pi\n",
    "bins=np.linspace(0,80,41)\n",
    "\n",
    "NN=multiLayerNLRM(n0,n1,m,cplx=False,f=f,layers=1,sigmax=sx,sigmaw=sw,sigmab=sb,batchNorm=False)\n",
    "histB=np.histogram(NN.eigs[:-1],bins,density=True)[0]\n",
    "plt.hist(NN.eigs[:-1],50,density=True)\n",
    "plt.plot(xs,rhosB)\n",
    "plt.show()"
   ]
  },
  {
   "cell_type": "code",
   "execution_count": 68,
   "id": "1304604f",
   "metadata": {},
   "outputs": [],
   "source": [
    "np.savetxt(\"hist_cube.csv\",np.array([(bins[1:]+bins[:-1])/2,histNB,histB]).T,delimiter=\",\")\n",
    "np.savetxt(\"curve_cube.csv\",np.array([xs,rhos,rhosB]).T,delimiter=\",\")"
   ]
  },
  {
   "cell_type": "markdown",
   "id": "0017d831",
   "metadata": {},
   "source": [
    "## Figure 2"
   ]
  },
  {
   "cell_type": "code",
   "execution_count": 69,
   "id": "0e54c50c",
   "metadata": {},
   "outputs": [
    {
     "data": {
      "image/png": "[encoded data removed]",
      "text/plain": [
       "<Figure size 432x288 with 1 Axes>"
      ]
     },
     "metadata": {
      "needs_background": "light"
     },
     "output_type": "display_data"
    }
   ],
   "source": [
    "phi=1;psi=2;sx=1.;sw=1.;sb=.0\n",
    "chi=phi/psi\n",
    "vx=sx**2.; vw=sw**2.; vb=sb**2.; \n",
    "layers=[1,2,5,10]\n",
    "ns=np.logspace(1,np.log10(3000),10).astype(int)\n",
    "result = {}\n",
    "alpha=1\n",
    "xs=np.linspace(0,6,3000)\n",
    "dx=xs[1]-xs[0]\n",
    "\n",
    "t1=theta1(falpha(1),vw,vx,vb)\n",
    "t1b=theta1b(falpha(alpha),vw,vx,vb)\n",
    "df=lambda x: derivative(falpha(alpha),x,dx=1e-5)\n",
    "t2=theta2(df,vw,vx,vb)\n",
    "ys=np.array([np.max(np.imag(gcomp(x+.0001j,t1-t1b,t2,phi,psi,cubic=True))) for x in xs])\n",
    "rhos=np.max([chi,1])*ys/np.pi\n",
    "\n",
    "for n1 in ns:\n",
    "    print(n1)\n",
    "    n0=int(psi*n1)\n",
    "    m=int(n0/phi)\n",
    "    for i in layers:\n",
    "        Ys = multiLayerNLRM(n0,n1,m,cplx=False,f=falpha(alpha),layers=i,sigmax=sx,sigmaw=sw,sigmab=sb)\n",
    "        Yeigs=Ys.eigs.flatten()\n",
    "        result[i,n1] = stats.wasserstein_distance(Yeigs,xs,v_weights=rhos) #np.max(np.abs([np.mean(Yeigs<=xmax)for xmax in xs]-np.cumsum(rhos*dx) ))\n",
    "clear_output()\n",
    "\n",
    "for i in layers:\n",
    "    plt.loglog(ns,[result[i,n] for n in ns],label=\"{}-layer\".format(i))\n",
    "plt.legend()\n",
    "plt.show()\n",
    "np.savetxt(\"wasserstein_no_bias.csv\",np.array([ns]+[[result[i,n] for n in ns] for i in layers]).T,delimiter=\",\")"
   ]
  },
  {
   "cell_type": "code",
   "execution_count": 70,
   "id": "27e108c0",
   "metadata": {},
   "outputs": [
    {
     "data": {
      "image/png": "[encoded data removed]",
      "text/plain": [
       "<Figure size 432x288 with 1 Axes>"
      ]
     },
     "metadata": {
      "needs_background": "light"
     },
     "output_type": "display_data"
    }
   ],
   "source": [
    "phi=1;psi=2;sx=1.;sw=1.;sb=.5\n",
    "chi=phi/psi\n",
    "vx=sx**2.; vw=sw**2.; vb=sb**2.; \n",
    "layers=[1,2,5,10]\n",
    "ns=np.logspace(1,np.log10(3000),10).astype(int)\n",
    "result = {}\n",
    "alpha=1\n",
    "xs=np.linspace(0,6,3000)\n",
    "dx=xs[1]-xs[0]\n",
    "\n",
    "t1=theta1(falpha(1),vw,vx,vb)\n",
    "t1b=theta1b(falpha(alpha),vw,vx,vb)\n",
    "df=lambda x: derivative(falpha(alpha),x,dx=1e-5)\n",
    "t2=theta2(df,vw,vx,vb)\n",
    "ys=np.array([np.max(np.imag(gcomp(x+.0001j,t1-t1b,t2,phi,psi,cubic=True))) for x in xs])\n",
    "rhos=np.max([chi,1])*ys/np.pi\n",
    "\n",
    "for n1 in ns:\n",
    "    print(n1)\n",
    "    n0=int(psi*n1)\n",
    "    m=int(n0/phi)\n",
    "    for i in layers:\n",
    "        Ys = multiLayerNLRM(n0,n1,m,cplx=False,f=falpha(alpha),layers=i,sigmax=sx,sigmaw=sw,sigmab=sb)\n",
    "        Yeigs=Ys.eigs.flatten()\n",
    "        result[i,n1] = stats.wasserstein_distance(Yeigs,xs,v_weights=rhos) #np.max(np.abs([np.mean(Yeigs<=xmax)for xmax in xs]-np.cumsum(rhos*dx) ))\n",
    "clear_output()\n",
    "\n",
    "for i in layers:\n",
    "    plt.loglog(ns,[result[i,n] for n in ns],label=\"{}-layer\".format(i))\n",
    "plt.legend()\n",
    "plt.show()\n",
    "np.savetxt(\"wasserstein_bias.csv\",np.array([ns]+[[result[i,n] for n in ns] for i in layers]).T,delimiter=\",\")"
   ]
  },
  {
   "cell_type": "markdown",
   "id": "17725d0c",
   "metadata": {},
   "source": [
    "## Figure 3"
   ]
  },
  {
   "cell_type": "code",
   "execution_count": 72,
   "id": "ca519b44",
   "metadata": {},
   "outputs": [],
   "source": [
    "phi=1; psi=2; sx=1.; sw=1.; sb=.5; alpha=1\n",
    "vx=sx**2.; vw=sw**2.; vb=sb**2.; \n",
    "f=falpha(alpha)\n",
    "chi=phi/psi\n",
    "t1=theta1(f,vw,vx,vb)\n",
    "t1b=theta1b(f,vw,vx,vb)\n",
    "df=lambda x: derivative(f,x,dx=1e-5)\n",
    "t2=theta2(df,vw,vx,vb)\n",
    "xs=np.linspace(0,5,200)\n",
    "ys=np.array([np.imag(gcomp(x+.0001j,t1-t1b,t2,phi,psi,cubic=True)) for x in xs])\n",
    "rhos=np.max([chi,1])*ys.max(axis=1)/np.pi\n",
    "np.savetxt(\"f1_curve_bias.csv\",np.array([xs,rhos]).T,delimiter=\",\")"
   ]
  },
  {
   "cell_type": "code",
   "execution_count": 73,
   "id": "7b5a7060",
   "metadata": {},
   "outputs": [],
   "source": [
    "phi=1; psi=2; sx=1.; sw=1.; sb=0; alpha=1\n",
    "vx=sx**2.; vw=sw**2.; vb=sb**2.; \n",
    "f=falpha(alpha)\n",
    "chi=phi/psi\n",
    "t1=theta1(f,vw,vx,vb)\n",
    "t1b=theta1b(f,vw,vx,vb)\n",
    "df=lambda x: derivative(f,x,dx=1e-5)\n",
    "t2=theta2(df,vw,vx,vb)\n",
    "xs=np.linspace(0,5,200)\n",
    "ys=np.array([np.imag(gcomp(x+.0001j,t1-t1b,t2,phi,psi,cubic=True)) for x in xs])\n",
    "rhos=np.max([chi,1])*ys.max(axis=1)/np.pi\n",
    "np.savetxt(\"f1_curve_bias.csv\",np.array([xs,rhos]).T,delimiter=\",\")"
   ]
  },
  {
   "cell_type": "code",
   "execution_count": 74,
   "id": "394178f9",
   "metadata": {},
   "outputs": [],
   "source": [
    "layers=[1,2,5]\n",
    "n1=3000\n",
    "n0=int(psi*n1)\n",
    "m=int(n0/phi)"
   ]
  },
  {
   "cell_type": "code",
   "execution_count": 90,
   "id": "2e5913d8",
   "metadata": {},
   "outputs": [
    {
     "data": {
      "image/png": "[encoded data removed]",
      "text/plain": [
       "<Figure size 432x288 with 1 Axes>"
      ]
     },
     "metadata": {
      "needs_background": "light"
     },
     "output_type": "display_data"
    }
   ],
   "source": [
    "hists=[]\n",
    "bins=np.linspace(0,5,21)\n",
    "hists.append((bins[1:]+bins[:-1])/2)\n",
    "for i in layers:\n",
    "    NN=multiLayerNLRM(n0,n1,m,cplx=False,f=f,layers=i,sigmax=sx,sigmaw=sw,sigmab=.5,batchNorm=True)\n",
    "    hists.append(np.histogram(NN.eigs[:-1],bins,density=True)[0])\n",
    "for (i,k) in enumerate(layers):\n",
    "    plt.bar(hists[0]+i*(bins[1]-bins[0])/3,hists[i+1],width=(bins[1]-bins[0])/3)\n",
    "plt.show()\n",
    "np.savetxt(\"hists_batch_bias.csv\",np.array(hists).T,delimiter=\",\")"
   ]
  },
  {
   "cell_type": "code",
   "execution_count": 87,
   "id": "0aa2d92b",
   "metadata": {},
   "outputs": [
    {
     "data": {
      "image/png": "[encoded data removed]",
      "text/plain": [
       "<Figure size 432x288 with 1 Axes>"
      ]
     },
     "metadata": {
      "needs_background": "light"
     },
     "output_type": "display_data"
    }
   ],
   "source": [
    "hists=[]\n",
    "bins=np.linspace(0,3.5,21)\n",
    "hists.append((bins[1:]+bins[:-1])/2)\n",
    "for i in layers:\n",
    "    NN=multiLayerNLRM(n0,n1,m,cplx=False,f=f,layers=i,sigmax=sx,sigmaw=sw,sigmab=0,batchNorm=False)\n",
    "    hists.append(np.histogram(NN.eigs[:-1],bins,density=True)[0])\n",
    "for (i,k) in enumerate(layers):\n",
    "    plt.bar(hists[0]+i*(bins[1]-bins[0])/3,hists[i+1],width=(bins[1]-bins[0])/3)\n",
    "plt.show()\n",
    "np.savetxt(\"hists_nobatch_nobias.csv\",np.array(hists).T,delimiter=\",\")"
   ]
  },
  {
   "cell_type": "code",
   "execution_count": 88,
   "id": "3eb151ae",
   "metadata": {},
   "outputs": [
    {
     "data": {
      "image/png": "[encoded data removed]",
      "text/plain": [
       "<Figure size 432x288 with 1 Axes>"
      ]
     },
     "metadata": {
      "needs_background": "light"
     },
     "output_type": "display_data"
    }
   ],
   "source": [
    "hists=[]\n",
    "bins=np.linspace(0,12,21)\n",
    "hists.append((bins[1:]+bins[:-1])/2)\n",
    "for i in layers:\n",
    "    NN=multiLayerNLRM(n0,n1,m,cplx=False,f=f,layers=i,sigmax=sx,sigmaw=sw,sigmab=.5,batchNorm=False)\n",
    "    hists.append(np.histogram(NN.eigs[:-1],bins,density=True)[0])\n",
    "for (i,k) in enumerate(layers):\n",
    "    plt.bar(hists[0]+i*(bins[1]-bins[0])/3,hists[i+1],width=(bins[1]-bins[0])/3)\n",
    "plt.show()\n",
    "np.savetxt(\"hists_nobatch_bias.csv\",np.array(hists).T,delimiter=\",\")"
   ]
  },
  {
   "cell_type": "code",
   "execution_count": 89,
   "id": "73577608",
   "metadata": {},
   "outputs": [
    {
     "data": {
      "image/png": "[encoded data removed]",
      "text/plain": [
       "<Figure size 432x288 with 1 Axes>"
      ]
     },
     "metadata": {
      "needs_background": "light"
     },
     "output_type": "display_data"
    }
   ],
   "source": [
    "hists=[]\n",
    "bins=np.linspace(0,3.5,21)\n",
    "hists.append((bins[1:]+bins[:-1])/2)\n",
    "for i in layers:\n",
    "    NN=multiLayerNLRM(n0,n1,m,cplx=False,f=f,layers=i,sigmax=sx,sigmaw=sw,sigmab=0,batchNorm=True)\n",
    "    hists.append(np.histogram(NN.eigs[:-1],bins,density=True)[0])\n",
    "for (i,k) in enumerate(layers):\n",
    "    plt.bar(hists[0]+i*(bins[1]-bins[0])/3,hists[i+1],width=(bins[1]-bins[0])/3)\n",
    "plt.show()\n",
    "np.savetxt(\"hists_batch_nobias.csv\",np.array(hists).T,delimiter=\",\")"
   ]
  },
  {
   "cell_type": "code",
   "execution_count": null,
   "id": "3550da4a",
   "metadata": {},
   "outputs": [],
   "source": []
  }
 ],
 "metadata": {
  "kernelspec": {
   "display_name": "Python 3.7.6 64-bit",
   "language": "python",
   "name": "python37664bit20d85cabe6364606a0e81c8b3e0ab34a"
  },
  "language_info": {
   "codemirror_mode": {
    "name": "ipython",
    "version": 3
   },
   "file_extension": ".py",
   "mimetype": "text/x-python",
   "name": "python",
   "nbconvert_exporter": "python",
   "pygments_lexer": "ipython3",
   "version": "3.9.4"
  }
 },
 "nbformat": 4,
 "nbformat_minor": 5
}
